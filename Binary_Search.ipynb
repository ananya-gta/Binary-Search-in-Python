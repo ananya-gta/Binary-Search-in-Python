{
  "nbformat": 4,
  "nbformat_minor": 0,
  "metadata": {
    "colab": {
      "name": "Binary Search",
      "provenance": [],
      "collapsed_sections": []
    },
    "kernelspec": {
      "name": "python3",
      "display_name": "Python 3"
    },
    "language_info": {
      "name": "python"
    }
  },
  "cells": [
    {
      "cell_type": "code",
      "metadata": {
        "colab": {
          "base_uri": "https://localhost:8080/"
        },
        "id": "YFFO_yKMR46a",
        "outputId": "641a0410-5586-4f87-cccb-ef50dcb9529e"
      },
      "source": [
        "list= [1,2,13,4,15,6,11,9,19,10]\n",
        "list.sort()\n",
        "first=0\n",
        "last=len(list)-1\n",
        "mid= (first+last)//2\n",
        "item=int(input(\"Enter the element to be searched: \"))\n",
        "found=False\n",
        "while ( first<=last and not found):\n",
        "  mid= (first+last)//2\n",
        "  if(list[mid]==item):\n",
        "    print(f\"found at position {mid}\")\n",
        "    found=True\n",
        "  else:\n",
        "    if item<list[mid]:\n",
        "      last = mid-1\n",
        "    else:\n",
        "      first=mid+1\n",
        "\n",
        "if found==False:\n",
        "  print(\"Number not found !\")\n"
      ],
      "execution_count": 1,
      "outputs": [
        {
          "output_type": "stream",
          "name": "stdout",
          "text": [
            "Enter the element to be searched: 19\n",
            "found at position 9\n"
          ]
        }
      ]
    }
  ]
}